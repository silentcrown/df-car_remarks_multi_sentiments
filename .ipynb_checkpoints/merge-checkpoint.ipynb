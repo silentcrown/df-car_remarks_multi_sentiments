{
 "cells": [
  {
   "cell_type": "code",
   "execution_count": 1,
   "metadata": {},
   "outputs": [],
   "source": [
    "import pandas as pd"
   ]
  },
  {
   "cell_type": "code",
   "execution_count": 2,
   "metadata": {},
   "outputs": [],
   "source": [
    "result1 = pd.read_csv('see_final_result+.csv')\n",
    "result2 = pd.read_csv('see_final_result++.csv')\n",
    "result3 = pd.read_csv('result++/see_final_result++.csv')"
   ]
  },
  {
   "cell_type": "code",
   "execution_count": 3,
   "metadata": {},
   "outputs": [],
   "source": [
    "c_id_1 = list(result1['content_id'])\n",
    "sub_1 = list(result1['subject'])\n",
    "c_id_2 = list(result2['content_id'])\n",
    "sub_2 = list(result2['subject'])"
   ]
  },
  {
   "cell_type": "code",
   "execution_count": 5,
   "metadata": {},
   "outputs": [
    {
     "data": {
      "text/plain": [
       "(2661, 2625)"
      ]
     },
     "execution_count": 5,
     "metadata": {},
     "output_type": "execute_result"
    }
   ],
   "source": [
    "for c_id in c_id_1:\n",
    "    if c_id_1[i] in c_id_2:\n",
    "        data = result2[result2['content_id'] == c_id_1[i]]\n",
    "        for xx in data.index.tolist():\n",
    "            if sub_1[i] == sub2.loc[xx,'subject']:\n",
    "                print(sub2.loc[xx])\n",
    "            "
   ]
  },
  {
   "cell_type": "code",
   "execution_count": null,
   "metadata": {},
   "outputs": [],
   "source": []
  }
 ],
 "metadata": {
  "kernelspec": {
   "display_name": "Python [conda env:yxvenv]",
   "language": "python",
   "name": "conda-env-yxvenv-py"
  },
  "language_info": {
   "codemirror_mode": {
    "name": "ipython",
    "version": 3
   },
   "file_extension": ".py",
   "mimetype": "text/x-python",
   "name": "python",
   "nbconvert_exporter": "python",
   "pygments_lexer": "ipython3",
   "version": "3.6.1"
  }
 },
 "nbformat": 4,
 "nbformat_minor": 2
}
